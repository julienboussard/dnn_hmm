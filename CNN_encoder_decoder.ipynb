{
 "cells": [
  {
   "cell_type": "code",
   "execution_count": 51,
   "metadata": {},
   "outputs": [],
   "source": [
    "%matplotlib inline\n",
    "\n",
    "import h5py\n",
    "import numpy as np\n",
    "import matplotlib.pyplot as plt\n",
    "from matplotlib import cm\n",
    "import matplotlib.gridspec as gridspec\n",
    "import scipy.io as sio\n"
   ]
  },
  {
   "cell_type": "code",
   "execution_count": 52,
   "metadata": {},
   "outputs": [],
   "source": [
    "data = np.load(\"data_img.npy\")\n",
    "labels = np.load(\"labels_img.npy\")\n",
    "# labels = np.load(\"correct.npy\")[0]\n",
    "rewarded = np.load(\"rewarded.npy\")[0]"
   ]
  },
  {
   "cell_type": "code",
   "execution_count": 53,
   "metadata": {},
   "outputs": [
    {
     "data": {
      "text/plain": [
       "array([1., 1., 2., 2., 2., 2., 2., 1., 2., 1.])"
      ]
     },
     "execution_count": 53,
     "metadata": {},
     "output_type": "execute_result"
    }
   ],
   "source": [
    "labels[:10]"
   ]
  },
  {
   "cell_type": "markdown",
   "metadata": {},
   "source": [
    "# Build decoder"
   ]
  },
  {
   "cell_type": "code",
   "execution_count": 54,
   "metadata": {},
   "outputs": [],
   "source": [
    "%matplotlib inline\n",
    "import os\n",
    "import yaml\n",
    "import matplotlib.gridspec as gridspec\n",
    "import math\n",
    "import matplotlib.pyplot as plt\n",
    "import numpy as np\n",
    "# import seaborn as sns\n",
    "import torch\n",
    "import torch.nn as nn\n",
    "import torch.nn.functional as F\n",
    "import torch.optim as optim\n"
   ]
  },
  {
   "cell_type": "code",
   "execution_count": 55,
   "metadata": {},
   "outputs": [],
   "source": [
    "# from tensorboardX import SummaryWriter\n",
    "# from torchvision import datasets, transforms\n",
    "# from torchvision.utils import make_grid\n",
    "from tqdm import tqdm, trange\n",
    "\n",
    "# writer = SummaryWriter()\n",
    "# sns.set()\n",
    "# sns.set_style(\"dark\")\n",
    "# sns.set_palette(\"muted\")\n",
    "# sns.set_color_codes(\"muted\")"
   ]
  },
  {
   "cell_type": "code",
   "execution_count": 56,
   "metadata": {},
   "outputs": [
    {
     "name": "stdout",
     "output_type": "stream",
     "text": [
      "True\n"
     ]
    }
   ],
   "source": [
    "DEVICE = torch.device(\"cuda\" if torch.cuda.is_available() else \"cpu\")\n",
    "LOADER_KWARGS = {'num_workers': 1, 'pin_memory': True} if torch.cuda.is_available() else {}\n",
    "print(torch.cuda.is_available())"
   ]
  },
  {
   "cell_type": "code",
   "execution_count": 57,
   "metadata": {},
   "outputs": [],
   "source": [
    "BATCH_SIZE = 64\n",
    "CLASSES = 2\n",
    "TRAIN_EPOCHS = 100\n",
    "\n"
   ]
  },
  {
   "cell_type": "code",
   "execution_count": 58,
   "metadata": {},
   "outputs": [],
   "source": [
    "decision_data = data[~np.isnan(labels)]\n",
    "decision_labels = labels[~np.isnan(labels)]"
   ]
  },
  {
   "cell_type": "code",
   "execution_count": 59,
   "metadata": {},
   "outputs": [],
   "source": [
    "rewarded_updated = rewarded[~np.isnan(labels)]"
   ]
  },
  {
   "cell_type": "code",
   "execution_count": 60,
   "metadata": {},
   "outputs": [],
   "source": [
    "decision_data = decision_data.reshape((decision_data.shape[0], 1, decision_data.shape[1], decision_data.shape[2]))"
   ]
  },
  {
   "cell_type": "code",
   "execution_count": 61,
   "metadata": {},
   "outputs": [],
   "source": [
    "decision_labels = decision_labels - 1"
   ]
  },
  {
   "cell_type": "code",
   "execution_count": 62,
   "metadata": {},
   "outputs": [],
   "source": [
    "training_samples = 500\n",
    "idx = np.random.choice(training_samples, training_samples, replace = False)"
   ]
  },
  {
   "cell_type": "code",
   "execution_count": 63,
   "metadata": {},
   "outputs": [],
   "source": [
    "train_data = torch.tensor(decision_data[:training_samples]) #idx#training_samples\n",
    "tensor_train_labels = torch.tensor(decision_labels[:training_samples])\n",
    "test_data = torch.tensor(decision_data[training_samples:])\n",
    "tensor_test_labels = torch.tensor(decision_labels[training_samples:])"
   ]
  },
  {
   "cell_type": "code",
   "execution_count": 64,
   "metadata": {},
   "outputs": [],
   "source": [
    "torch_train_dataset = torch.utils.data.TensorDataset(train_data, tensor_train_labels)\n",
    "train_loader = torch.utils.data.DataLoader(torch_train_dataset, batch_size=BATCH_SIZE)\n",
    "torch_test_dataset = torch.utils.data.TensorDataset(test_data, tensor_test_labels)\n",
    "test_loader = torch.utils.data.DataLoader(torch_test_dataset, batch_size=BATCH_SIZE)"
   ]
  },
  {
   "cell_type": "code",
   "execution_count": 65,
   "metadata": {},
   "outputs": [],
   "source": [
    "TRAIN_SIZE = len(train_loader.dataset)\n",
    "NUM_BATCHES = len(train_loader)"
   ]
  },
  {
   "cell_type": "code",
   "execution_count": 66,
   "metadata": {},
   "outputs": [
    {
     "data": {
      "text/plain": [
       "8"
      ]
     },
     "execution_count": 66,
     "metadata": {},
     "output_type": "execute_result"
    }
   ],
   "source": [
    "NUM_BATCHES"
   ]
  },
  {
   "cell_type": "code",
   "execution_count": 67,
   "metadata": {},
   "outputs": [],
   "source": [
    "class Net(nn.Module):   \n",
    "    def __init__(self, ):\n",
    "        super(Net, self).__init__()\n",
    "        \n",
    "        self.cnn_layers = nn.Sequential(\n",
    "            # Defining a 2D convolution layer\n",
    "            nn.Conv2d(1, 3, kernel_size=(9, 3), stride=(3, 1), padding=3),\n",
    "            nn.BatchNorm2d(3),\n",
    "            nn.Tanh(),\n",
    "            nn.MaxPool2d(kernel_size=2, stride=2),\n",
    "            # Defining another 2D convolution layer\n",
    "#             nn.Conv2d(3, 3, kernel_size=3, stride=1, padding=1),\n",
    "#             nn.BatchNorm2d(3),\n",
    "#             nn.Tanh(),\n",
    "#             nn.MaxPool2d(kernel_size=2, stride=2),\n",
    "#             nn.Conv2d(3, 3, kernel_size=3, stride=1, padding=1),\n",
    "#             nn.BatchNorm2d(3),\n",
    "#             nn.Tanh(),\n",
    "#             nn.MaxPool2d(kernel_size=2, stride=2),\n",
    "            nn.Conv2d(3, 1, kernel_size=3, stride=1, padding=1),\n",
    "            nn.BatchNorm2d(1),\n",
    "            nn.Tanh(),\n",
    "            nn.MaxPool2d(kernel_size=2, stride=2)\n",
    "        )\n",
    "\n",
    "        self.linear_layers1 = nn.Sequential(\n",
    "            nn.Linear(975, 64), \n",
    "            nn.Tanh(),\n",
    "            nn.Linear(64, 4), \n",
    "            nn.Tanh()\n",
    "        )\n",
    "        \n",
    "        self.W1_1 = nn.Sequential(\n",
    "            nn.Linear(4, 4), \n",
    "            nn.Tanh()\n",
    "        )\n",
    "\n",
    "        self.W1_2 = nn.Sequential(\n",
    "            nn.Linear(4, 4), \n",
    "            nn.Tanh()\n",
    "        )\n",
    "\n",
    "        self.W1_3 = nn.Sequential(\n",
    "            nn.Linear(4, 4), \n",
    "            nn.Tanh()\n",
    "        )\n",
    "        \n",
    "        self.W1_4 = nn.Sequential(\n",
    "            nn.Linear(4, 4), \n",
    "            nn.Tanh()\n",
    "        )\n",
    "\n",
    "        self.linear_layers2 = nn.Sequential(\n",
    "            nn.Linear(4, 32), \n",
    "            nn.Tanh(),\n",
    "#             nn.Linear(32, 32), \n",
    "#             nn.Tanh(),\n",
    "            nn.Linear(32, 2), \n",
    "            # Dimension?\n",
    "            nn.Softmax(dim = 1)\n",
    "        )\n",
    "\n",
    "    # Defining the forward pass    \n",
    "    def forward(self, x):\n",
    "#         print(self.cnn_layers[0](x).shape)\n",
    "        x = self.cnn_layers(x)\n",
    "        x = x.view(x.size(0), -1)\n",
    "        x = self.linear_layers1(x)\n",
    "        x = self.W1_1(x)\n",
    "        x = self.linear_layers2(x)\n",
    "        return x\n",
    "    \n",
    "    def forward_with_state(self, x, state):\n",
    "#         print(self.cnn_layers[0](x).shape)\n",
    "        x = self.cnn_layers(x)\n",
    "        x = x.view(x.size(0), -1)\n",
    "        x = self.linear_layers1(x)\n",
    "        if state == 0:\n",
    "            x = self.W1_1(x)\n",
    "        elif state == 1:\n",
    "            x = self.W1_2(x)\n",
    "        elif state == 2:\n",
    "            x = self.W1_3(x)\n",
    "        elif state == 3:\n",
    "            x = self.W1_4(x)\n",
    "        x = self.linear_layers2(x)\n",
    "        return x"
   ]
  },
  {
   "cell_type": "code",
   "execution_count": 75,
   "metadata": {},
   "outputs": [],
   "source": [
    "def train(model, optimizer, epoch, l2_regularization = True):\n",
    "#     model.train()\n",
    "\n",
    "    #     if epoch == 0: # write initial distributions\n",
    "    #         write_weight_histograms(epoch)\n",
    "    for batch_idx, (data, target) in enumerate((train_loader)):\n",
    "        target = target.long()\n",
    "        optimizer.zero_grad()\n",
    "        output_val = model(data)\n",
    "        loss = criterion(output_val, target)\n",
    "        if l2_regularization:\n",
    "            l2_reg = torch.tensor(0.)\n",
    "            for idx, param in enumerate(model.parameters()):\n",
    "                #idx != 12 and idx != 13 and \n",
    "                if idx != 14 and idx != 15 and idx != 16 and idx != 17 and idx != 18 and idx != 19:\n",
    "                    l2_reg += 0.0005*torch.norm(param)\n",
    "            loss += l2_reg\n",
    "        loss.backward()\n",
    "        optimizer.step()\n",
    "    return loss\n"
   ]
  },
  {
   "cell_type": "code",
   "execution_count": 76,
   "metadata": {},
   "outputs": [],
   "source": [
    "# for idx, param in enumerate(model.parameters()):\n",
    "#     print(idx)\n",
    "#     print(param)"
   ]
  },
  {
   "cell_type": "code",
   "execution_count": 77,
   "metadata": {},
   "outputs": [
    {
     "name": "stdout",
     "output_type": "stream",
     "text": [
      "Net(\n",
      "  (cnn_layers): Sequential(\n",
      "    (0): Conv2d(1, 3, kernel_size=(9, 3), stride=(3, 1), padding=(3, 3))\n",
      "    (1): BatchNorm2d(3, eps=1e-05, momentum=0.1, affine=True, track_running_stats=True)\n",
      "    (2): Tanh()\n",
      "    (3): MaxPool2d(kernel_size=2, stride=2, padding=0, dilation=1, ceil_mode=False)\n",
      "    (4): Conv2d(3, 1, kernel_size=(3, 3), stride=(1, 1), padding=(1, 1))\n",
      "    (5): BatchNorm2d(1, eps=1e-05, momentum=0.1, affine=True, track_running_stats=True)\n",
      "    (6): Tanh()\n",
      "    (7): MaxPool2d(kernel_size=2, stride=2, padding=0, dilation=1, ceil_mode=False)\n",
      "  )\n",
      "  (linear_layers1): Sequential(\n",
      "    (0): Linear(in_features=975, out_features=64, bias=True)\n",
      "    (1): Tanh()\n",
      "    (2): Linear(in_features=64, out_features=4, bias=True)\n",
      "    (3): Tanh()\n",
      "  )\n",
      "  (W1_1): Sequential(\n",
      "    (0): Linear(in_features=4, out_features=4, bias=True)\n",
      "    (1): Tanh()\n",
      "  )\n",
      "  (W1_2): Sequential(\n",
      "    (0): Linear(in_features=4, out_features=4, bias=True)\n",
      "    (1): Tanh()\n",
      "  )\n",
      "  (W1_3): Sequential(\n",
      "    (0): Linear(in_features=4, out_features=4, bias=True)\n",
      "    (1): Tanh()\n",
      "  )\n",
      "  (W1_4): Sequential(\n",
      "    (0): Linear(in_features=4, out_features=4, bias=True)\n",
      "    (1): Tanh()\n",
      "  )\n",
      "  (linear_layers2): Sequential(\n",
      "    (0): Linear(in_features=4, out_features=32, bias=True)\n",
      "    (1): Tanh()\n",
      "    (2): Linear(in_features=32, out_features=2, bias=True)\n",
      "    (3): Softmax(dim=1)\n",
      "  )\n",
      ")\n"
     ]
    }
   ],
   "source": [
    "# defining the model\n",
    "model = Net()\n",
    "# defining the optimizer\n",
    "optimizer = optim.Adam(model.parameters(), lr=0.0005)\n",
    "# defining the loss function\n",
    "criterion = nn.CrossEntropyLoss()\n",
    "print(model)"
   ]
  },
  {
   "cell_type": "code",
   "execution_count": 78,
   "metadata": {},
   "outputs": [
    {
     "name": "stderr",
     "output_type": "stream",
     "text": [
      "100%|██████████| 100/100 [01:24<00:00,  1.19it/s]\n"
     ]
    }
   ],
   "source": [
    "TRAIN_EPOCHS = 100\n",
    "loss_overtime = []\n",
    "scheduler = optim.lr_scheduler.ExponentialLR(optimizer, gamma = 0.25)\n",
    "for epoch in tqdm(range(TRAIN_EPOCHS)):\n",
    "    loss  = train(model, optimizer, epoch, l2_regularization = True)\n",
    "    loss_overtime.append(loss.detach().numpy())\n",
    "    if epoch % 5 == 0:\n",
    "        plt.figure(figsize = (10, 10))\n",
    "        plt.plot(loss_overtime)\n",
    "        plt.grid()\n",
    "        plt.savefig(\"loss_overtime.png\")\n",
    "        plt.close()\n",
    "    if (epoch+1) % 10 == 0:\n",
    "        scheduler.step()\n",
    "#         for param_group in optimizer.param_groups:\n",
    "#             print(param_group['lr'])"
   ]
  },
  {
   "cell_type": "code",
   "execution_count": null,
   "metadata": {},
   "outputs": [],
   "source": []
  },
  {
   "cell_type": "code",
   "execution_count": 79,
   "metadata": {},
   "outputs": [
    {
     "data": {
      "image/png": "[encoded data removed]",
      "text/plain": [
       "<Figure size 432x288 with 1 Axes>"
      ]
     },
     "metadata": {
      "needs_background": "light"
     },
     "output_type": "display_data"
    }
   ],
   "source": [
    "plt.plot(loss_overtime)\n",
    "plt.grid()"
   ]
  },
  {
   "cell_type": "code",
   "execution_count": 80,
   "metadata": {},
   "outputs": [
    {
     "name": "stdout",
     "output_type": "stream",
     "text": [
      "0.026\n"
     ]
    }
   ],
   "source": [
    "####### evaluate on train \n",
    "\n",
    "model.eval()\n",
    "train_loss = 0\n",
    "predict_train = []\n",
    "true_value = []\n",
    "for batch_idx, (data, target) in enumerate((train_loader)):\n",
    "    output_val = model(data)\n",
    "    train_loss += ((output_val.detach().numpy().argmax(1) - target.detach().numpy())**2).mean()*data.shape[0]\n",
    "    for k in output_val.detach().numpy().argmax(1):\n",
    "        predict_train.append(k)\n",
    "    for k in target.detach().numpy():\n",
    "        true_value.append(k)\n",
    "\n",
    "train_loss = train_loss/TRAIN_SIZE\n",
    "print(train_loss)"
   ]
  },
  {
   "cell_type": "code",
   "execution_count": 81,
   "metadata": {},
   "outputs": [
    {
     "name": "stderr",
     "output_type": "stream",
     "text": [
      "1it [00:00, 53.15it/s]"
     ]
    },
    {
     "name": "stdout",
     "output_type": "stream",
     "text": [
      "0.16666666666666666\n"
     ]
    },
    {
     "name": "stderr",
     "output_type": "stream",
     "text": [
      "\n"
     ]
    }
   ],
   "source": [
    "model.eval()\n",
    "test_loss = 0\n",
    "predict_test = []\n",
    "true_value = []\n",
    "for batch_idx, (data, target) in tqdm(enumerate((test_loader))):\n",
    "    output_val = model(data)\n",
    "    for k in output_val.detach().numpy().argmax(1):\n",
    "        predict_test.append(k)\n",
    "    for k in target.detach().numpy():\n",
    "        true_value.append(k)\n",
    "    test_loss += ((output_val.detach().numpy().argmax(1) - target.detach().numpy())**2).mean()*data.shape[0]\n",
    "test_loss = test_loss/len(test_loader.dataset)\n",
    "print(test_loss)"
   ]
  },
  {
   "cell_type": "code",
   "execution_count": null,
   "metadata": {},
   "outputs": [],
   "source": [
    "len(train_loader)"
   ]
  },
  {
   "cell_type": "markdown",
   "metadata": {},
   "source": [
    "# Initialize model for HMM"
   ]
  },
  {
   "cell_type": "code",
   "execution_count": null,
   "metadata": {},
   "outputs": [],
   "source": [
    "### Initialize W1_bis \n",
    "\n",
    "W_mat = model.W1[0].weight.data.detach().numpy().copy()\n",
    "bias_mat = model.W1[0].bias.data.detach().numpy().copy()\n",
    "\n",
    "model.W1_bis[0].weight.data = torch.from_numpy(W_mat)\n",
    "model.W1_bis[0].bias.data = torch.from_numpy(bias_mat)"
   ]
  },
  {
   "cell_type": "code",
   "execution_count": null,
   "metadata": {},
   "outputs": [],
   "source": [
    "model.W1[0].weight.data"
   ]
  },
  {
   "cell_type": "code",
   "execution_count": null,
   "metadata": {},
   "outputs": [],
   "source": [
    "model.W1_bis[0].weight.data"
   ]
  },
  {
   "cell_type": "code",
   "execution_count": 82,
   "metadata": {},
   "outputs": [],
   "source": [
    "### Set all gradients to False except W1, W1_bis\n",
    "\n",
    "# for idx, params in enumerate(model.parameters()):\n",
    "#     print(idx)\n",
    "#     if idx == 12 or idx == 13 or idx == 14 or idx == 15:\n",
    "#         params.requires_grad = True\n",
    "#     else :\n",
    "#         params.requires_grad = False\n",
    "#     print(params) # prints two True statements?\n",
    "\n",
    "model.W1_1 = nn.Sequential(\n",
    "            nn.Linear(4, 4), \n",
    "            nn.Tanh()\n",
    "           )\n",
    "\n",
    "model.W1_2 = nn.Sequential(\n",
    "            nn.Linear(4, 4), \n",
    "            nn.Tanh()\n",
    "           )\n",
    "\n",
    "\n",
    "model.W1_3 = nn.Sequential(\n",
    "            nn.Linear(4, 4), \n",
    "            nn.Tanh()\n",
    "           )\n",
    "\n",
    "\n",
    "model.W1_4 = nn.Sequential(\n",
    "            nn.Linear(4, 4), \n",
    "            nn.Tanh()\n",
    "           )\n",
    "\n",
    "\n",
    "# model.W1_bis = nn.Sequential(\n",
    "#             nn.Linear(4, 4), \n",
    "#             nn.Tanh()\n",
    "#            )"
   ]
  },
  {
   "cell_type": "code",
   "execution_count": 83,
   "metadata": {},
   "outputs": [],
   "source": [
    "## train batch_size = 1 for easy access\n",
    "\n",
    "BATCH_SIZE = 1\n",
    "train_loader = torch.utils.data.DataLoader(torch_train_dataset, batch_size=BATCH_SIZE)\n",
    "test_loader = torch.utils.data.DataLoader(torch_test_dataset, batch_size=BATCH_SIZE)"
   ]
  },
  {
   "cell_type": "code",
   "execution_count": 84,
   "metadata": {},
   "outputs": [
    {
     "data": {
      "text/plain": [
       "500"
      ]
     },
     "execution_count": 84,
     "metadata": {},
     "output_type": "execute_result"
    }
   ],
   "source": [
    "len(train_loader)"
   ]
  },
  {
   "cell_type": "markdown",
   "metadata": {},
   "source": [
    "# GLM HMM Layer Changes"
   ]
  },
  {
   "cell_type": "code",
   "execution_count": 86,
   "metadata": {},
   "outputs": [
    {
     "data": {
      "text/plain": [
       "array([[0.13492505, 0.86507495],\n",
       "       [0.54762061, 0.45237939]])"
      ]
     },
     "execution_count": 86,
     "metadata": {},
     "output_type": "execute_result"
    }
   ],
   "source": [
    "### Initialize parameters \n",
    "\n",
    "NUM_ITER_EM = 25\n",
    "N_ITER_GD = 20 #20\n",
    "n_states = 2\n",
    "n_steps = 500\n",
    "phi = np.ones(n_states)/n_states\n",
    "ALPHA = 1\n",
    "alpha = ALPHA*np.ones(n_states)\n",
    "A = np.random.dirichlet(alpha, size = n_states)\n",
    "# A = np.zeros((n_states, n_states))\n",
    "# A[0] = np.random.dirichlet(alpha, size = 1)[0]\n",
    "# A[1, 0] = A[0, 1]\n",
    "# A[1, 1] = A[0, 0]\n",
    "A"
   ]
  },
  {
   "cell_type": "code",
   "execution_count": 87,
   "metadata": {},
   "outputs": [],
   "source": [
    "a = np.zeros((n_steps, n_states))"
   ]
  },
  {
   "cell_type": "code",
   "execution_count": 99,
   "metadata": {},
   "outputs": [
    {
     "data": {
      "text/plain": [
       "array([[0.17023644, 0.82976356],\n",
       "       [0.61139132, 0.38860868]])"
      ]
     },
     "execution_count": 99,
     "metadata": {},
     "output_type": "execute_result"
    }
   ],
   "source": [
    "A"
   ]
  },
  {
   "cell_type": "code",
   "execution_count": 89,
   "metadata": {},
   "outputs": [],
   "source": [
    "### E step\n",
    "\n",
    "def forward_a(A, phi, model):\n",
    "#     print(\"Forward Step\")\n",
    "    a = np.zeros((n_steps, n_states))\n",
    "#     model.eval() Set it before calling function\n",
    "    for batch_idx, (data, target) in tqdm(enumerate((train_loader))):\n",
    "        true_label = int(target.detach().cpu().numpy()[0])\n",
    "        if batch_idx == 0:\n",
    "            for i in range(n_states):\n",
    "                a[batch_idx, i] = phi[i]*model.forward_with_state(data, i).detach().cpu().numpy()[0, true_label]\n",
    "#                 a[batch_idx, 1] = phi[1]*model.forward_with_state(data, 1).detach().cpu().numpy()[0, true_label]\n",
    "        else :\n",
    "            for i in range(n_states):\n",
    "                val = model.forward_with_state(data, i).detach().cpu().numpy()[0, true_label]\n",
    "                for j in range(n_states):\n",
    "                    a[batch_idx, i] += A[j, i]*a[batch_idx-1, j]*val\n",
    "#             a[batch_idx, 1] = (A[1, 1]*a[batch_idx-1, 1] + A[0, 1]*a[batch_idx-1, 0])*model.forward_with_state(data, 1).detach().cpu().numpy()[0, true_label]\n",
    "    del data\n",
    "    del target\n",
    "    return a\n",
    "\n",
    "\n",
    "def backward_b(A, model):\n",
    "    print(\"Backward Step\")\n",
    "    b = np.zeros((n_steps, n_states))\n",
    "    for batch_idx, (data, target) in tqdm(reversed(list(enumerate(train_loader)))):\n",
    "        if batch_idx == n_steps-1:\n",
    "            for i in range(n_states):\n",
    "                b[batch_idx, i] = 1\n",
    "#             b[batch_idx, 1] = 1\n",
    "        else :\n",
    "            for i in range(n_states):\n",
    "                for j in range(n_states):\n",
    "                    b[batch_idx, i] += A[i, j]*b[batch_idx+1, j]*model.forward_with_state(data_previous, j).detach().cpu().numpy()[0, true_label_previous]\n",
    "#             b[batch_idx, 0] = A[0, 0]*b[batch_idx+1, 0]*model.forward_with_state(data_previous, 0).detach().cpu().numpy()[0, true_label_previous] + A[0, 1]*b[batch_idx+1, 1]*model.forward_with_state(data_previous, 1).detach().cpu().numpy()[0, true_label_previous]\n",
    "#             b[batch_idx, 1] = A[1, 1]*b[batch_idx+1, 1]*model.forward_with_state(data_previous, 1).detach().cpu().numpy()[0, true_label_previous] + A[1, 0]*b[batch_idx+1, 0]*model.forward_with_state(data_previous, 0).detach().cpu().numpy()[0, true_label_previous]\n",
    "        data_previous = data\n",
    "        true_label_previous = int(target.detach().cpu().numpy()[0])\n",
    "    del data\n",
    "    del target\n",
    "    del data_previous\n",
    "    del true_label_previous\n",
    "    return b\n",
    "\n",
    "def calculate_gamma(a, b):\n",
    "    return np.multiply(a, b)/(a[-1].sum())\n",
    "\n",
    "def calculate_xi(a, b, A, model):\n",
    "    xi = np.zeros((n_steps-1, n_states, n_states))\n",
    "    for batch_idx, (data, target) in tqdm(reversed(list(enumerate(train_loader)))):\n",
    "        if batch_idx>0:\n",
    "            true_label = int(target.detach().cpu().numpy()[0])\n",
    "            for i in range(n_states):\n",
    "                for j in range(n_states):\n",
    "                    xi[batch_idx-1, i, j] = a[batch_idx-1, i]*A[i, j]*b[batch_idx, j]*model.forward_with_state(data, j).detach().cpu().numpy()[0, true_label]\n",
    "#             xi[batch_idx-1, 0, 0] = a[batch_idx-1, 0]*A[0, 0]*b[batch_idx, 0]*model.forward_with_state(data, 0).detach().cpu().numpy()[0, true_label]\n",
    "#             xi[batch_idx-1, 1, 0] = a[batch_idx-1, 1]*A[1, 0]*b[batch_idx, 0]*model.forward_with_state(data, 0).detach().cpu().numpy()[0, true_label]\n",
    "#             xi[batch_idx-1, 0, 1] = a[batch_idx-1, 0]*A[0, 1]*b[batch_idx, 1]*model.forward_with_state(data, 1).detach().cpu().numpy()[0, true_label] \n",
    "#             xi[batch_idx-1, 1, 1] = a[batch_idx-1, 1]*A[1, 1]*b[batch_idx, 1]*model.forward_with_state(data, 1).detach().cpu().numpy()[0, true_label]\n",
    "    del data\n",
    "    del target\n",
    "    return xi/(a[n_steps-1].sum())"
   ]
  },
  {
   "cell_type": "code",
   "execution_count": 90,
   "metadata": {},
   "outputs": [],
   "source": [
    "### M step\n",
    "\n",
    "def update_phi(gamma):\n",
    "    return gamma[0]/(gamma[0].sum())\n",
    "\n",
    "def update_A(xi):\n",
    "    for i in range(n_states):\n",
    "        for j in range(n_states):\n",
    "            A[i, j] = (ALPHA-1 + xi[:, i, j].sum())/(n_states*(ALPHA - 1) + xi[:, i, :].sum())\n",
    "\n",
    "#     A[0, 0] = (ALPHA-1 + xi[:, 0, 0].sum())/(n_states*(ALPHA - 1) + xi[:, 0, :].sum())\n",
    "#     A[1, 0] = (ALPHA-1 + xi[:, 1, 0].sum())/(n_states*(ALPHA - 1) + xi[:, 1, :].sum())\n",
    "#     A[0, 1] = (ALPHA-1 + xi[:, 0, 1].sum())/(n_states*(ALPHA - 1) + xi[:, 0, :].sum())\n",
    "#     A[1, 1] = (ALPHA-1 + xi[:, 1, 1].sum())/(n_states*(ALPHA - 1) + xi[:, 1, :].sum())\n",
    "    return A"
   ]
  },
  {
   "cell_type": "code",
   "execution_count": 91,
   "metadata": {},
   "outputs": [],
   "source": [
    "def update_wi(model, gamma):\n",
    "    print(\"Update W_i\")\n",
    "    for epoch_optim in tqdm(range(N_ITER_GD)):\n",
    "        optimizer.zero_grad()\n",
    "        loss = 0\n",
    "        for batch_idx, (data, target) in enumerate((train_loader)):\n",
    "            true_label = int(target.detach().cpu().numpy()[0])\n",
    "            for j in range(n_states):\n",
    "                loss -= torch.log(model.forward_with_state(data, j)[0, true_label])*gamma[batch_idx, j]\n",
    "#                 loss -= model.forward_with_state(data, 1)[0, true_label]*gamma[batch_idx, 1]\n",
    "#         print(\"LOSS: \")\n",
    "#         print(loss)\n",
    "        loss.backward()\n",
    "        optimizer.step()\n",
    "        #     print(\"difference gamma : \")\n",
    "        #     print(gamma_before - gamma)\n",
    "        loss_numpy = loss.detach().cpu().numpy()\n",
    "        del loss\n",
    "    return loss_numpy"
   ]
  },
  {
   "cell_type": "code",
   "execution_count": null,
   "metadata": {},
   "outputs": [],
   "source": []
  },
  {
   "cell_type": "code",
   "execution_count": 92,
   "metadata": {},
   "outputs": [
    {
     "name": "stderr",
     "output_type": "stream",
     "text": [
      "36it [00:00, 352.67it/s]"
     ]
    },
    {
     "name": "stdout",
     "output_type": "stream",
     "text": [
      "E step\n"
     ]
    },
    {
     "name": "stderr",
     "output_type": "stream",
     "text": [
      "500it [00:01, 389.73it/s]\n",
      "22it [00:00, 216.57it/s]"
     ]
    },
    {
     "name": "stdout",
     "output_type": "stream",
     "text": [
      "Backward Step\n"
     ]
    },
    {
     "name": "stderr",
     "output_type": "stream",
     "text": [
      "500it [00:02, 230.38it/s]\n",
      "500it [00:02, 233.57it/s]\n",
      "  0%|          | 0/20 [00:00<?, ?it/s]"
     ]
    },
    {
     "name": "stdout",
     "output_type": "stream",
     "text": [
      "M step\n",
      "Update W_i\n"
     ]
    },
    {
     "name": "stderr",
     "output_type": "stream",
     "text": [
      "100%|██████████| 20/20 [00:35<00:00,  1.80s/it]\n",
      "27it [00:00, 265.53it/s]"
     ]
    },
    {
     "name": "stdout",
     "output_type": "stream",
     "text": [
      "E step\n"
     ]
    },
    {
     "name": "stderr",
     "output_type": "stream",
     "text": [
      "500it [00:01, 289.65it/s]\n",
      "17it [00:00, 164.01it/s]"
     ]
    },
    {
     "name": "stdout",
     "output_type": "stream",
     "text": [
      "Backward Step\n"
     ]
    },
    {
     "name": "stderr",
     "output_type": "stream",
     "text": [
      "500it [00:03, 153.66it/s]\n",
      "500it [00:02, 166.98it/s]\n",
      "  0%|          | 0/20 [00:00<?, ?it/s]"
     ]
    },
    {
     "name": "stdout",
     "output_type": "stream",
     "text": [
      "M step\n",
      "Update W_i\n"
     ]
    },
    {
     "name": "stderr",
     "output_type": "stream",
     "text": [
      "100%|██████████| 20/20 [00:36<00:00,  1.83s/it]\n",
      "25it [00:00, 244.55it/s]"
     ]
    },
    {
     "name": "stdout",
     "output_type": "stream",
     "text": [
      "E step\n"
     ]
    },
    {
     "name": "stderr",
     "output_type": "stream",
     "text": [
      "500it [00:01, 451.68it/s]\n",
      "27it [00:00, 266.98it/s]"
     ]
    },
    {
     "name": "stdout",
     "output_type": "stream",
     "text": [
      "Backward Step\n"
     ]
    },
    {
     "name": "stderr",
     "output_type": "stream",
     "text": [
      "500it [00:01, 251.06it/s]\n",
      "500it [00:02, 249.72it/s]\n",
      "  0%|          | 0/20 [00:00<?, ?it/s]"
     ]
    },
    {
     "name": "stdout",
     "output_type": "stream",
     "text": [
      "M step\n",
      "Update W_i\n"
     ]
    },
    {
     "name": "stderr",
     "output_type": "stream",
     "text": [
      "100%|██████████| 20/20 [00:35<00:00,  1.76s/it]\n",
      "31it [00:00, 303.56it/s]"
     ]
    },
    {
     "name": "stdout",
     "output_type": "stream",
     "text": [
      "E step\n"
     ]
    },
    {
     "name": "stderr",
     "output_type": "stream",
     "text": [
      "500it [00:01, 434.02it/s]\n",
      "28it [00:00, 270.92it/s]"
     ]
    },
    {
     "name": "stdout",
     "output_type": "stream",
     "text": [
      "Backward Step\n"
     ]
    },
    {
     "name": "stderr",
     "output_type": "stream",
     "text": [
      "500it [00:01, 252.71it/s]\n",
      "500it [00:02, 246.91it/s]\n",
      "  0%|          | 0/20 [00:00<?, ?it/s]"
     ]
    },
    {
     "name": "stdout",
     "output_type": "stream",
     "text": [
      "M step\n",
      "Update W_i\n"
     ]
    },
    {
     "name": "stderr",
     "output_type": "stream",
     "text": [
      "100%|██████████| 20/20 [00:38<00:00,  1.92s/it]\n",
      "29it [00:00, 289.39it/s]"
     ]
    },
    {
     "name": "stdout",
     "output_type": "stream",
     "text": [
      "E step\n"
     ]
    },
    {
     "name": "stderr",
     "output_type": "stream",
     "text": [
      "500it [00:01, 438.66it/s]\n",
      "27it [00:00, 268.41it/s]"
     ]
    },
    {
     "name": "stdout",
     "output_type": "stream",
     "text": [
      "Backward Step\n"
     ]
    },
    {
     "name": "stderr",
     "output_type": "stream",
     "text": [
      "500it [00:01, 251.02it/s]\n",
      "500it [00:01, 252.65it/s]\n",
      "  0%|          | 0/20 [00:00<?, ?it/s]"
     ]
    },
    {
     "name": "stdout",
     "output_type": "stream",
     "text": [
      "M step\n",
      "Update W_i\n"
     ]
    },
    {
     "name": "stderr",
     "output_type": "stream",
     "text": [
      "100%|██████████| 20/20 [00:36<00:00,  1.81s/it]\n"
     ]
    }
   ],
   "source": [
    "optimizer = optim.Adam(model.parameters(), lr=0.01)\n",
    "loss_overtime = []\n",
    "loss_1_overtime = []\n",
    "loss_2_overtime = []\n",
    "loss_3_overtime = []\n",
    "\n",
    "for iter in range(5):\n",
    "    # E step\n",
    "    print(\"E step\")\n",
    "    model.eval()\n",
    "    a = forward_a(A, phi, model)\n",
    "    b = backward_b(A, model)\n",
    "    gamma = calculate_gamma(a, b)\n",
    "    xi = calculate_xi(a, b, A, model)\n",
    "    \n",
    "    # M step\n",
    "    print(\"M step\")\n",
    "    phi = update_phi(gamma)\n",
    "    A = update_A(xi)\n",
    "    \n",
    "    model.train()\n",
    "    for idx, params in enumerate(model.parameters()):\n",
    "        if idx == 12 or idx == 13 or idx == 14 or idx == 15 or idx == 16 or idx == 17 or idx == 18 or idx == 19:\n",
    "            params.requires_grad = True\n",
    "        else :\n",
    "            params.requires_grad = False\n",
    "    loss_1 = (gamma[0]*phi).sum()\n",
    "    loss_2 = (xi*np.log(A)).sum()\n",
    "    loss_3 = update_wi(model, gamma)\n",
    "    \n",
    "    loss_1_overtime.append(loss_1)\n",
    "    loss_2_overtime.append(loss_2)\n",
    "    loss_3_overtime.append(loss_3)\n",
    "    loss_overtime.append(loss_1 + loss_2 + loss_3) "
   ]
  },
  {
   "cell_type": "code",
   "execution_count": null,
   "metadata": {},
   "outputs": [],
   "source": []
  },
  {
   "cell_type": "code",
   "execution_count": 93,
   "metadata": {},
   "outputs": [
    {
     "data": {
      "text/plain": [
       "<matplotlib.legend.Legend at 0x7f9ac04a9d90>"
      ]
     },
     "execution_count": 93,
     "metadata": {},
     "output_type": "execute_result"
    },
    {
     "data": {
      "image/png": "[encoded data removed]",
      "text/plain": [
       "<Figure size 432x288 with 1 Axes>"
      ]
     },
     "metadata": {
      "needs_background": "light"
     },
     "output_type": "display_data"
    }
   ],
   "source": [
    "plt.plot(loss_overtime, label = \"NLL\")\n",
    "plt.plot(loss_1_overtime, label = \"Init loss\")\n",
    "plt.plot(loss_2_overtime, label = \"HMM loss\")\n",
    "plt.plot(loss_3_overtime, label = \"W loss\")\n",
    "plt.grid()\n",
    "plt.legend()"
   ]
  },
  {
   "cell_type": "code",
   "execution_count": 94,
   "metadata": {},
   "outputs": [
    {
     "data": {
      "text/plain": [
       "array([1, 1, 1, 1, 1, 1, 1, 1, 1, 1, 1, 1, 1, 1, 1, 1, 1, 1, 1, 1, 1, 1,\n",
       "       1, 1, 1, 1, 1, 1, 1, 1, 1, 1, 1, 1, 1, 1, 1, 1, 1, 1, 1, 1, 1, 1,\n",
       "       1, 1, 1, 1, 1, 1, 1, 1, 1, 1, 1, 1, 1, 1, 1, 1, 1, 1, 1, 1, 1, 1,\n",
       "       1, 1, 1, 1, 1, 1, 1, 1, 1, 1, 1, 1, 1, 1, 1, 1, 1, 1, 1, 1, 1, 1,\n",
       "       1, 1, 1, 1, 1, 1, 1, 1, 1, 1, 1, 1, 1, 1, 1, 1, 1, 1, 1, 1, 1, 1,\n",
       "       1, 1, 1, 1, 1, 1, 1, 1, 1, 1, 1, 1, 1, 1, 1, 1, 1, 1, 1, 1, 1, 1,\n",
       "       1, 1, 1, 1, 1, 1, 1, 1, 1, 1, 1, 1, 1, 1, 1, 1, 1, 1, 1, 1, 1, 1,\n",
       "       1, 1, 1, 1, 1, 1, 1, 1, 1, 1, 1, 1, 1, 1, 1, 1, 1, 1, 1, 1, 1, 1,\n",
       "       1, 1, 1, 1, 1, 1, 1, 1, 1, 1, 1, 1, 1, 1, 1, 1, 1, 1, 1, 1, 1, 1,\n",
       "       1, 1, 1, 1, 1, 1, 1, 1, 1, 1, 1, 1, 1, 1, 1, 1, 1, 1, 1, 1, 1, 1,\n",
       "       1, 1, 1, 1, 1, 1, 1, 1, 1, 1, 1, 1, 1, 1, 1, 1, 1, 1, 1, 1, 1, 1,\n",
       "       1, 1, 1, 1, 1, 1, 1, 1, 1, 1, 1, 1, 1, 1, 1, 1, 1, 1, 1, 1, 1, 1,\n",
       "       1, 1, 1, 1, 1, 1, 1, 1, 1, 1, 1, 1, 1, 1, 1, 1, 1, 1, 1, 1, 1, 1,\n",
       "       1, 1, 1, 1, 1, 1, 1, 1, 1, 1, 1, 1, 1, 1, 1, 1, 1, 1, 1, 1, 1, 1,\n",
       "       1, 1, 1, 1, 1, 1, 1, 1, 1, 1, 1, 1, 1, 1, 1, 1, 1, 1, 1, 1, 1, 1,\n",
       "       1, 1, 1, 1, 1, 1, 1, 1, 1, 1, 1, 1, 1, 1, 1, 1, 1, 1, 1, 1, 1, 1,\n",
       "       1, 1, 1, 1, 1, 1, 1, 1, 1, 1, 1, 1, 1, 1, 1, 1, 1, 1, 1, 1, 1, 1,\n",
       "       1, 1, 1, 1, 1, 1, 1, 1, 1, 1, 1, 1, 1, 1, 1, 1, 1, 1, 1, 1, 1, 1,\n",
       "       1, 1, 1, 1, 1, 1, 1, 1, 1, 1, 1, 1, 1, 1, 1, 1, 1, 1, 1, 1, 1, 1,\n",
       "       1, 1, 1, 1, 1, 1, 1, 1, 1, 1, 1, 1, 1, 1, 1, 1, 1, 1, 1, 1, 1, 1,\n",
       "       1, 1, 1, 1, 1, 1, 1, 1, 1, 1, 1, 1, 1, 1, 1, 1, 1, 1, 1, 1, 1, 1,\n",
       "       1, 1, 1, 1, 1, 1, 1, 1, 1, 1, 1, 1, 1, 1, 1, 1, 1, 1, 1, 1, 1, 1,\n",
       "       1, 1, 1, 1, 1, 1, 1, 1, 1, 1, 1, 1, 1, 1, 1, 1])"
      ]
     },
     "execution_count": 94,
     "metadata": {},
     "output_type": "execute_result"
    }
   ],
   "source": [
    "gamma.argmax(1)"
   ]
  },
  {
   "cell_type": "code",
   "execution_count": null,
   "metadata": {},
   "outputs": [],
   "source": [
    "np.where(abs(np.asarray(predict_train) - np.asarray(true_value)) != 0)"
   ]
  },
  {
   "cell_type": "code",
   "execution_count": null,
   "metadata": {},
   "outputs": [],
   "source": [
    "np.where(abs(np.asarray(predict_train) - np.asarray(true_value)) != 0)[0]"
   ]
  },
  {
   "cell_type": "code",
   "execution_count": null,
   "metadata": {},
   "outputs": [],
   "source": [
    "rewarded[[353, 492]]\n",
    "gamma.argmax(1)[[353, 492]]"
   ]
  },
  {
   "cell_type": "code",
   "execution_count": null,
   "metadata": {},
   "outputs": [],
   "source": [
    "rewarded[np.where(abs(np.asarray(predict_test) - np.asarray(true_value)) != 0)[0]]"
   ]
  },
  {
   "cell_type": "code",
   "execution_count": 95,
   "metadata": {},
   "outputs": [
    {
     "name": "stdout",
     "output_type": "stream",
     "text": [
      "0.03\n"
     ]
    }
   ],
   "source": [
    "\n",
    "model.eval()\n",
    "train_loss = 0\n",
    "predict_train = []\n",
    "true_value = []\n",
    "for batch_idx, (data, target) in enumerate((train_loader)):\n",
    "    output_val = model.forward_with_state(data, gamma[batch_idx].argmax())\n",
    "    train_loss += ((output_val.detach().numpy().argmax(1) - target.detach().numpy())**2).mean()*data.shape[0]\n",
    "    for k in output_val.detach().numpy().argmax(1):\n",
    "        predict_train.append(k)\n",
    "    for k in target.detach().numpy():\n",
    "        true_value.append(k)\n",
    "\n",
    "train_loss = train_loss/TRAIN_SIZE\n",
    "print(train_loss)"
   ]
  },
  {
   "cell_type": "code",
   "execution_count": 96,
   "metadata": {},
   "outputs": [
    {
     "data": {
      "text/plain": [
       "array([ 41,  45, 145, 147, 156, 176, 247, 299, 305, 323, 380, 439, 480,\n",
       "       485, 495])"
      ]
     },
     "execution_count": 96,
     "metadata": {},
     "output_type": "execute_result"
    }
   ],
   "source": [
    "np.where(abs(np.asarray(predict_train) - np.asarray(true_value)) != 0)[0]"
   ]
  },
  {
   "cell_type": "code",
   "execution_count": 98,
   "metadata": {},
   "outputs": [
    {
     "name": "stderr",
     "output_type": "stream",
     "text": [
      "48it [00:00, 528.58it/s]"
     ]
    },
    {
     "name": "stdout",
     "output_type": "stream",
     "text": [
      "0.14583333333333334\n"
     ]
    },
    {
     "name": "stderr",
     "output_type": "stream",
     "text": [
      "\n"
     ]
    }
   ],
   "source": [
    "model.eval()\n",
    "test_loss = 0\n",
    "predict_test = []\n",
    "true_value = []\n",
    "for batch_idx, (data, target) in tqdm(enumerate((test_loader))):\n",
    "    output_val = model.forward_with_state(data, 1)\n",
    "    for k in output_val.detach().numpy().argmax(1):\n",
    "        predict_test.append(k)\n",
    "    for k in target.detach().numpy():\n",
    "        true_value.append(k)\n",
    "    test_loss += ((output_val.detach().numpy().argmax(1) - target.detach().numpy())**2).mean()*data.shape[0]\n",
    "test_loss = test_loss/len(test_loader.dataset)\n",
    "print(test_loss)"
   ]
  },
  {
   "cell_type": "code",
   "execution_count": null,
   "metadata": {},
   "outputs": [],
   "source": [
    "model.W1[0].weight.data"
   ]
  },
  {
   "cell_type": "code",
   "execution_count": null,
   "metadata": {},
   "outputs": [],
   "source": [
    "model.W1_bis[0].weight.data"
   ]
  },
  {
   "cell_type": "code",
   "execution_count": null,
   "metadata": {},
   "outputs": [],
   "source": [
    "model.W1[0].bias.data"
   ]
  },
  {
   "cell_type": "code",
   "execution_count": null,
   "metadata": {},
   "outputs": [],
   "source": [
    "model.W1_bis[0].bias.data"
   ]
  },
  {
   "cell_type": "code",
   "execution_count": null,
   "metadata": {},
   "outputs": [],
   "source": [
    "gamma.argmax(1)"
   ]
  },
  {
   "cell_type": "markdown",
   "metadata": {},
   "source": [
    "# Train one model per state "
   ]
  },
  {
   "cell_type": "code",
   "execution_count": 36,
   "metadata": {},
   "outputs": [],
   "source": [
    "model1 = Net()\n",
    "optimizer1 = optim.Adam(model1.parameters(), lr=0.0001)\n",
    "\n",
    "model2 = Net()\n",
    "optimizer2 = optim.Adam(model2.parameters(), lr=0.0001)\n",
    "\n",
    "model3 = Net()\n",
    "optimizer3 = optim.Adam(model3.parameters(), lr=0.0001)\n",
    "\n",
    "model4 = Net()\n",
    "optimizer4 = optim.Adam(model4.parameters(), lr=0.0001)\n",
    "\n",
    "models = [model1, model2, model3, model4]\n",
    "optimizers = [optimizer1, optimizer2, optimizer3, optimizer4]"
   ]
  },
  {
   "cell_type": "code",
   "execution_count": 37,
   "metadata": {},
   "outputs": [
    {
     "data": {
      "text/plain": [
       "array([[0.27943741, 0.56633578, 0.04657944, 0.10764737],\n",
       "       [0.72415172, 0.10307846, 0.09641941, 0.07635042],\n",
       "       [0.16273262, 0.04156565, 0.70858164, 0.08712009],\n",
       "       [0.09608835, 0.17022776, 0.56533379, 0.16835009]])"
      ]
     },
     "execution_count": 37,
     "metadata": {},
     "output_type": "execute_result"
    }
   ],
   "source": [
    "### Initialize parameters \n",
    "\n",
    "NUM_ITER_EM = 50\n",
    "N_ITER_GD = 200 #20\n",
    "n_states = 4\n",
    "n_steps = 500\n",
    "phi = np.ones(n_states)/n_states\n",
    "ALPHA = 1\n",
    "alpha = ALPHA*np.ones(n_states)\n",
    "A = np.random.dirichlet(alpha, size = n_states)\n",
    "# A = np.zeros((n_states, n_states))\n",
    "# A[0] = np.random.dirichlet(alpha, size = 1)[0]\n",
    "# A[1, 0] = A[0, 1]\n",
    "# A[1, 1] = A[0, 0]\n",
    "A"
   ]
  },
  {
   "cell_type": "code",
   "execution_count": 38,
   "metadata": {},
   "outputs": [],
   "source": [
    "### E step\n",
    "\n",
    "def forward_a(A, phi, models):\n",
    "#     print(\"Forward Step\")\n",
    "    a = np.zeros((n_steps, n_states))\n",
    "#     model.eval() Set it before calling function\n",
    "    for batch_idx, (data, target) in tqdm(enumerate((train_loader))):\n",
    "        true_label = int(target.detach().cpu().numpy()[0])\n",
    "        if batch_idx == 0:\n",
    "            for i in range(n_states):\n",
    "                models[i].eval()\n",
    "                a[batch_idx, i] = phi[i]*models[i](data).detach().cpu().numpy()[0, true_label]\n",
    "#                 a[batch_idx, 1] = phi[1]*model.forward_with_state(data, 1).detach().cpu().numpy()[0, true_label]\n",
    "        else :\n",
    "            for i in range(n_states):\n",
    "                models[i].eval()\n",
    "                val = models[i](data).detach().cpu().numpy()[0, true_label]\n",
    "                for j in range(n_states):\n",
    "                    a[batch_idx, i] += A[j, i]*a[batch_idx-1, j]*val\n",
    "#             a[batch_idx, 1] = (A[1, 1]*a[batch_idx-1, 1] + A[0, 1]*a[batch_idx-1, 0])*model.forward_with_state(data, 1).detach().cpu().numpy()[0, true_label]\n",
    "    del data\n",
    "    del target\n",
    "    return a\n",
    "\n",
    "\n",
    "def backward_b(A, models):\n",
    "    print(\"Backward Step\")\n",
    "    b = np.zeros((n_steps, n_states))\n",
    "    for batch_idx, (data, target) in tqdm(reversed(list(enumerate(train_loader)))):\n",
    "        if batch_idx == n_steps-1:\n",
    "            for i in range(n_states):\n",
    "                b[batch_idx, i] = 1\n",
    "#             b[batch_idx, 1] = 1\n",
    "        else :\n",
    "            for j in range(n_states):\n",
    "                models[j].eval()\n",
    "                for i in range(n_states):\n",
    "                    b[batch_idx, i] += A[i, j]*b[batch_idx+1, j]*models[j](data_previous).detach().cpu().numpy()[0, true_label_previous]\n",
    "#             b[batch_idx, 0] = A[0, 0]*b[batch_idx+1, 0]*model.forward_with_state(data_previous, 0).detach().cpu().numpy()[0, true_label_previous] + A[0, 1]*b[batch_idx+1, 1]*model.forward_with_state(data_previous, 1).detach().cpu().numpy()[0, true_label_previous]\n",
    "#             b[batch_idx, 1] = A[1, 1]*b[batch_idx+1, 1]*model.forward_with_state(data_previous, 1).detach().cpu().numpy()[0, true_label_previous] + A[1, 0]*b[batch_idx+1, 0]*model.forward_with_state(data_previous, 0).detach().cpu().numpy()[0, true_label_previous]\n",
    "        data_previous = data\n",
    "        true_label_previous = int(target.detach().cpu().numpy()[0])\n",
    "    del data\n",
    "    del target\n",
    "    del data_previous\n",
    "    del true_label_previous\n",
    "    return b\n",
    "\n",
    "def calculate_gamma(a, b):\n",
    "    return np.multiply(a, b)/(a[-1].sum())\n",
    "\n",
    "def calculate_xi(a, b, A, models):\n",
    "    xi = np.zeros((n_steps-1, n_states, n_states))\n",
    "    for batch_idx, (data, target) in tqdm(reversed(list(enumerate(train_loader)))):\n",
    "        if batch_idx>0:\n",
    "            true_label = int(target.detach().cpu().numpy()[0])\n",
    "            for j in range(n_states):\n",
    "                models[j].eval()\n",
    "                for i in range(n_states):\n",
    "                    xi[batch_idx-1, i, j] = a[batch_idx-1, i]*A[i, j]*b[batch_idx, j]*models[j](data).detach().cpu().numpy()[0, true_label]\n",
    "    del data\n",
    "    del target\n",
    "    return xi/(a[n_steps-1].sum())"
   ]
  },
  {
   "cell_type": "code",
   "execution_count": 39,
   "metadata": {},
   "outputs": [],
   "source": [
    "### M step\n",
    "\n",
    "def update_phi(gamma):\n",
    "    return gamma[0]/(gamma[0].sum())\n",
    "\n",
    "def update_A(xi):\n",
    "    for i in range(n_states):\n",
    "        for j in range(n_states):\n",
    "            A[i, j] = (ALPHA-1 + xi[:, i, j].sum())/(n_states*(ALPHA - 1) + xi[:, i, :].sum())\n",
    "    return A"
   ]
  },
  {
   "cell_type": "code",
   "execution_count": null,
   "metadata": {},
   "outputs": [],
   "source": []
  },
  {
   "cell_type": "code",
   "execution_count": 40,
   "metadata": {},
   "outputs": [],
   "source": [
    "def train_with_gamma(model, optimizer, state, gamma, N_EPOCHS):\n",
    "    model.train()\n",
    "    for epoch in range(N_EPOCHS):\n",
    "        optimizer.zero_grad()\n",
    "        loss = 0\n",
    "        #     if epoch == 0: # write initial distributions\n",
    "        #         write_weight_histograms(epoch)\n",
    "        for batch_idx, (data, target) in enumerate((train_loader)):\n",
    "            true_label = int(target.detach().cpu().numpy()[0])\n",
    "            optimizer.zero_grad()\n",
    "            loss -= torch.log(model(data)[0, true_label])*gamma[batch_idx, state]\n",
    "        loss.backward()\n",
    "        optimizer.step()\n",
    "        return loss\n",
    "\n",
    "def update_wi(models, optimizers, gamma, N_EPOCHS):\n",
    "    loss_wi = 0\n",
    "    for i in tqdm(range(n_states)):\n",
    "        loss_wi += train_with_gamma(models[i], optimizers[i], i, gamma, N_EPOCHS)\n",
    "    return loss_wi"
   ]
  },
  {
   "cell_type": "code",
   "execution_count": 41,
   "metadata": {},
   "outputs": [
    {
     "name": "stderr",
     "output_type": "stream",
     "text": [
      "23it [00:00, 224.61it/s]"
     ]
    },
    {
     "name": "stdout",
     "output_type": "stream",
     "text": [
      "E step\n"
     ]
    },
    {
     "name": "stderr",
     "output_type": "stream",
     "text": [
      "500it [00:02, 233.78it/s]\n",
      "8it [00:00, 75.45it/s]"
     ]
    },
    {
     "name": "stdout",
     "output_type": "stream",
     "text": [
      "Backward Step\n"
     ]
    },
    {
     "name": "stderr",
     "output_type": "stream",
     "text": [
      "500it [00:09, 55.09it/s]\n",
      "500it [00:09, 51.69it/s]\n",
      "  0%|          | 0/4 [00:00<?, ?it/s]"
     ]
    },
    {
     "name": "stdout",
     "output_type": "stream",
     "text": [
      "M step\n"
     ]
    },
    {
     "name": "stderr",
     "output_type": "stream",
     "text": [
      "100%|██████████| 4/4 [00:07<00:00,  1.92s/it]\n",
      "13it [00:00, 125.31it/s]"
     ]
    },
    {
     "name": "stdout",
     "output_type": "stream",
     "text": [
      "E step\n"
     ]
    },
    {
     "name": "stderr",
     "output_type": "stream",
     "text": [
      "500it [00:03, 152.57it/s]\n",
      "5it [00:00, 46.79it/s]"
     ]
    },
    {
     "name": "stdout",
     "output_type": "stream",
     "text": [
      "Backward Step\n"
     ]
    },
    {
     "name": "stderr",
     "output_type": "stream",
     "text": [
      "500it [00:08, 57.07it/s]\n",
      "500it [00:11, 41.71it/s]\n",
      "  0%|          | 0/4 [00:00<?, ?it/s]"
     ]
    },
    {
     "name": "stdout",
     "output_type": "stream",
     "text": [
      "M step\n"
     ]
    },
    {
     "name": "stderr",
     "output_type": "stream",
     "text": [
      "100%|██████████| 4/4 [00:07<00:00,  1.92s/it]\n",
      "12it [00:00, 117.96it/s]"
     ]
    },
    {
     "name": "stdout",
     "output_type": "stream",
     "text": [
      "E step\n"
     ]
    },
    {
     "name": "stderr",
     "output_type": "stream",
     "text": [
      "500it [00:02, 206.04it/s]\n",
      "8it [00:00, 72.47it/s]"
     ]
    },
    {
     "name": "stdout",
     "output_type": "stream",
     "text": [
      "Backward Step\n"
     ]
    },
    {
     "name": "stderr",
     "output_type": "stream",
     "text": [
      "500it [00:09, 52.30it/s]\n",
      "500it [00:09, 52.32it/s]\n",
      "  0%|          | 0/4 [00:00<?, ?it/s]"
     ]
    },
    {
     "name": "stdout",
     "output_type": "stream",
     "text": [
      "M step\n"
     ]
    },
    {
     "name": "stderr",
     "output_type": "stream",
     "text": [
      "100%|██████████| 4/4 [00:07<00:00,  1.92s/it]\n",
      "13it [00:00, 127.62it/s]"
     ]
    },
    {
     "name": "stdout",
     "output_type": "stream",
     "text": [
      "E step\n"
     ]
    },
    {
     "name": "stderr",
     "output_type": "stream",
     "text": [
      "500it [00:02, 211.31it/s]\n",
      "8it [00:00, 71.84it/s]"
     ]
    },
    {
     "name": "stdout",
     "output_type": "stream",
     "text": [
      "Backward Step\n"
     ]
    },
    {
     "name": "stderr",
     "output_type": "stream",
     "text": [
      "500it [00:08, 60.54it/s]\n",
      "500it [00:08, 59.57it/s]\n",
      "  0%|          | 0/4 [00:00<?, ?it/s]"
     ]
    },
    {
     "name": "stdout",
     "output_type": "stream",
     "text": [
      "M step\n"
     ]
    },
    {
     "name": "stderr",
     "output_type": "stream",
     "text": [
      "100%|██████████| 4/4 [00:07<00:00,  1.88s/it]\n",
      "13it [00:00, 126.36it/s]"
     ]
    },
    {
     "name": "stdout",
     "output_type": "stream",
     "text": [
      "E step\n"
     ]
    },
    {
     "name": "stderr",
     "output_type": "stream",
     "text": [
      "500it [00:02, 199.63it/s]\n",
      "5it [00:00, 46.53it/s]"
     ]
    },
    {
     "name": "stdout",
     "output_type": "stream",
     "text": [
      "Backward Step\n"
     ]
    },
    {
     "name": "stderr",
     "output_type": "stream",
     "text": [
      "500it [00:08, 59.61it/s]\n",
      "500it [00:08, 60.43it/s]\n",
      "  0%|          | 0/4 [00:00<?, ?it/s]"
     ]
    },
    {
     "name": "stdout",
     "output_type": "stream",
     "text": [
      "M step\n"
     ]
    },
    {
     "name": "stderr",
     "output_type": "stream",
     "text": [
      "100%|██████████| 4/4 [00:07<00:00,  1.96s/it]\n",
      "12it [00:00, 119.66it/s]"
     ]
    },
    {
     "name": "stdout",
     "output_type": "stream",
     "text": [
      "E step\n"
     ]
    },
    {
     "name": "stderr",
     "output_type": "stream",
     "text": [
      "500it [00:03, 132.91it/s]\n",
      "5it [00:00, 46.37it/s]"
     ]
    },
    {
     "name": "stdout",
     "output_type": "stream",
     "text": [
      "Backward Step\n"
     ]
    },
    {
     "name": "stderr",
     "output_type": "stream",
     "text": [
      "500it [00:09, 50.18it/s]\n",
      "500it [00:12, 40.61it/s]\n",
      "  0%|          | 0/4 [00:00<?, ?it/s]"
     ]
    },
    {
     "name": "stdout",
     "output_type": "stream",
     "text": [
      "M step\n"
     ]
    },
    {
     "name": "stderr",
     "output_type": "stream",
     "text": [
      "100%|██████████| 4/4 [00:07<00:00,  1.87s/it]\n",
      "11it [00:00, 108.41it/s]"
     ]
    },
    {
     "name": "stdout",
     "output_type": "stream",
     "text": [
      "E step\n"
     ]
    },
    {
     "name": "stderr",
     "output_type": "stream",
     "text": [
      "500it [00:03, 139.43it/s]\n",
      "5it [00:00, 46.81it/s]"
     ]
    },
    {
     "name": "stdout",
     "output_type": "stream",
     "text": [
      "Backward Step\n"
     ]
    },
    {
     "name": "stderr",
     "output_type": "stream",
     "text": [
      "500it [00:11, 45.08it/s]\n",
      "500it [00:08, 58.42it/s]\n",
      "  0%|          | 0/4 [00:00<?, ?it/s]"
     ]
    },
    {
     "name": "stdout",
     "output_type": "stream",
     "text": [
      "M step\n"
     ]
    },
    {
     "name": "stderr",
     "output_type": "stream",
     "text": [
      "100%|██████████| 4/4 [00:07<00:00,  1.80s/it]\n",
      "13it [00:00, 126.33it/s]"
     ]
    },
    {
     "name": "stdout",
     "output_type": "stream",
     "text": [
      "E step\n"
     ]
    },
    {
     "name": "stderr",
     "output_type": "stream",
     "text": [
      "500it [00:03, 160.59it/s]\n",
      "5it [00:00, 46.08it/s]"
     ]
    },
    {
     "name": "stdout",
     "output_type": "stream",
     "text": [
      "Backward Step\n"
     ]
    },
    {
     "name": "stderr",
     "output_type": "stream",
     "text": [
      "500it [00:13, 37.53it/s]\n",
      "500it [00:08, 59.22it/s]\n",
      "  0%|          | 0/4 [00:00<?, ?it/s]"
     ]
    },
    {
     "name": "stdout",
     "output_type": "stream",
     "text": [
      "M step\n"
     ]
    },
    {
     "name": "stderr",
     "output_type": "stream",
     "text": [
      "100%|██████████| 4/4 [00:08<00:00,  2.01s/it]\n",
      "10it [00:00, 97.69it/s]"
     ]
    },
    {
     "name": "stdout",
     "output_type": "stream",
     "text": [
      "E step\n"
     ]
    },
    {
     "name": "stderr",
     "output_type": "stream",
     "text": [
      "500it [00:03, 142.98it/s]\n",
      "5it [00:00, 46.46it/s]"
     ]
    },
    {
     "name": "stdout",
     "output_type": "stream",
     "text": [
      "Backward Step\n"
     ]
    },
    {
     "name": "stderr",
     "output_type": "stream",
     "text": [
      "500it [00:11, 43.27it/s]\n",
      "500it [00:12, 40.30it/s]\n",
      "  0%|          | 0/4 [00:00<?, ?it/s]"
     ]
    },
    {
     "name": "stdout",
     "output_type": "stream",
     "text": [
      "M step\n"
     ]
    },
    {
     "name": "stderr",
     "output_type": "stream",
     "text": [
      "100%|██████████| 4/4 [00:07<00:00,  1.85s/it]\n",
      "13it [00:00, 123.24it/s]"
     ]
    },
    {
     "name": "stdout",
     "output_type": "stream",
     "text": [
      "E step\n"
     ]
    },
    {
     "name": "stderr",
     "output_type": "stream",
     "text": [
      "500it [00:03, 136.03it/s]\n",
      "8it [00:00, 70.35it/s]"
     ]
    },
    {
     "name": "stdout",
     "output_type": "stream",
     "text": [
      "Backward Step\n"
     ]
    },
    {
     "name": "stderr",
     "output_type": "stream",
     "text": [
      "500it [00:08, 60.50it/s]\n",
      "500it [00:10, 45.72it/s]\n",
      "  0%|          | 0/4 [00:00<?, ?it/s]"
     ]
    },
    {
     "name": "stdout",
     "output_type": "stream",
     "text": [
      "M step\n"
     ]
    },
    {
     "name": "stderr",
     "output_type": "stream",
     "text": [
      "100%|██████████| 4/4 [00:08<00:00,  2.09s/it]\n"
     ]
    }
   ],
   "source": [
    "loss_overtime = []\n",
    "loss_1_overtime = []\n",
    "loss_2_overtime = []\n",
    "loss_3_overtime = []\n",
    "\n",
    "for iter in range(10):\n",
    "    # E step\n",
    "    print(\"E step\")\n",
    "#     model.eval()\n",
    "    a = forward_a(A, phi, models)\n",
    "    b = backward_b(A, models)\n",
    "    gamma = calculate_gamma(a, b)\n",
    "    xi = calculate_xi(a, b, A, models)\n",
    "    \n",
    "    # M step\n",
    "    print(\"M step\")\n",
    "    phi = update_phi(gamma)\n",
    "    A = update_A(xi)\n",
    "\n",
    "    loss_1 = (gamma[0]*phi).sum()\n",
    "    loss_2 = (xi*np.log(A)).sum()\n",
    "    loss_3 = update_wi(models, optimizers, gamma, N_ITER_GD)\n",
    "    \n",
    "    loss_1_overtime.append(loss_1)\n",
    "    loss_2_overtime.append(loss_2)\n",
    "    loss_3_overtime.append(loss_3)\n",
    "    loss_overtime.append(loss_1 + loss_2 + loss_3) "
   ]
  },
  {
   "cell_type": "code",
   "execution_count": 44,
   "metadata": {},
   "outputs": [
    {
     "data": {
      "text/plain": [
       "array([[0.66868501, 0.232818  , 0.07689209, 0.0216049 ],\n",
       "       [0.41768224, 0.39442205, 0.11038733, 0.07750838],\n",
       "       [0.42315171, 0.30993246, 0.15746853, 0.1094473 ],\n",
       "       ...,\n",
       "       [0.35978475, 0.27249142, 0.25854011, 0.10918373],\n",
       "       [0.35462583, 0.27360023, 0.25762759, 0.11414635],\n",
       "       [0.38318218, 0.25407207, 0.27961859, 0.08312716]])"
      ]
     },
     "execution_count": 44,
     "metadata": {},
     "output_type": "execute_result"
    }
   ],
   "source": [
    "gamma"
   ]
  },
  {
   "cell_type": "code",
   "execution_count": 43,
   "metadata": {},
   "outputs": [
    {
     "data": {
      "text/plain": [
       "<matplotlib.legend.Legend at 0x7f9ac0643b10>"
      ]
     },
     "execution_count": 43,
     "metadata": {},
     "output_type": "execute_result"
    },
    {
     "data": {
      "image/png": "[encoded data removed]",
      "text/plain": [
       "<Figure size 432x288 with 1 Axes>"
      ]
     },
     "metadata": {
      "needs_background": "light"
     },
     "output_type": "display_data"
    }
   ],
   "source": [
    "plt.plot(loss_overtime, label = \"NLL\")\n",
    "plt.plot(loss_1_overtime, label = \"Init loss\")\n",
    "plt.plot(loss_2_overtime, label = \"HMM loss\")\n",
    "plt.plot(loss_3_overtime, label = \"W loss\")\n",
    "plt.grid()\n",
    "plt.legend()"
   ]
  },
  {
   "cell_type": "code",
   "execution_count": 45,
   "metadata": {},
   "outputs": [
    {
     "data": {
      "text/plain": [
       "[<matplotlib.lines.Line2D at 0x7f9a9c252750>]"
      ]
     },
     "execution_count": 45,
     "metadata": {},
     "output_type": "execute_result"
    },
    {
     "data": {
      "image/png": "[encoded data removed]",
      "text/plain": [
       "<Figure size 432x288 with 1 Axes>"
      ]
     },
     "metadata": {
      "needs_background": "light"
     },
     "output_type": "display_data"
    }
   ],
   "source": [
    "plt.plot(gamma.argmax(1))"
   ]
  },
  {
   "cell_type": "code",
   "execution_count": 50,
   "metadata": {},
   "outputs": [
    {
     "data": {
      "text/plain": [
       "array([[0.4484802 , 0.3969222 , 0.03782475, 0.11677284],\n",
       "       [0.50366374, 0.43963946, 0.00561458, 0.05108222],\n",
       "       [0.2191567 , 0.42150249, 0.32715042, 0.03219038],\n",
       "       [0.14794917, 0.28974025, 0.39682272, 0.16548785]])"
      ]
     },
     "execution_count": 50,
     "metadata": {},
     "output_type": "execute_result"
    }
   ],
   "source": [
    "A"
   ]
  },
  {
   "cell_type": "code",
   "execution_count": null,
   "metadata": {},
   "outputs": [],
   "source": [
    "update_A(xi)"
   ]
  },
  {
   "cell_type": "code",
   "execution_count": 51,
   "metadata": {},
   "outputs": [
    {
     "name": "stdout",
     "output_type": "stream",
     "text": [
      "0.0\n"
     ]
    }
   ],
   "source": [
    "\n",
    "model.eval()\n",
    "train_loss = 0\n",
    "predict_train = []\n",
    "true_value = []\n",
    "for batch_idx, (data, target) in enumerate((train_loader)):\n",
    "    output_val = models[gamma[batch_idx].argmax()](data)\n",
    "    train_loss += ((output_val.detach().numpy().argmax(1) - target.detach().numpy())**2).mean()*data.shape[0]\n",
    "    for k in output_val.detach().numpy().argmax(1):\n",
    "        predict_train.append(k)\n",
    "    for k in target.detach().numpy():\n",
    "        true_value.append(k)\n",
    "\n",
    "train_loss = train_loss/TRAIN_SIZE\n",
    "print(train_loss)"
   ]
  },
  {
   "cell_type": "code",
   "execution_count": 56,
   "metadata": {},
   "outputs": [
    {
     "name": "stderr",
     "output_type": "stream",
     "text": [
      "48it [00:00, 643.52it/s]"
     ]
    },
    {
     "name": "stdout",
     "output_type": "stream",
     "text": [
      "0.5208333333333334\n"
     ]
    },
    {
     "name": "stderr",
     "output_type": "stream",
     "text": [
      "\n"
     ]
    }
   ],
   "source": [
    "model.eval()\n",
    "test_loss = 0\n",
    "predict_test = []\n",
    "true_value = []\n",
    "for batch_idx, (data, target) in tqdm(enumerate((test_loader))):\n",
    "    output_val = models[0](data)\n",
    "    for k in output_val.detach().numpy().argmax(1):\n",
    "        predict_test.append(k)\n",
    "    for k in target.detach().numpy():\n",
    "        true_value.append(k)\n",
    "    test_loss += ((output_val.detach().numpy().argmax(1) - target.detach().numpy())**2).mean()*data.shape[0]\n",
    "test_loss = test_loss/len(test_loader.dataset)\n",
    "print(test_loss)"
   ]
  },
  {
   "cell_type": "code",
   "execution_count": null,
   "metadata": {},
   "outputs": [],
   "source": []
  }
 ],
 "metadata": {
  "kernelspec": {
   "display_name": "Python 3",
   "language": "python",
   "name": "python3"
  },
  "language_info": {
   "codemirror_mode": {
    "name": "ipython",
    "version": 3
   },
   "file_extension": ".py",
   "mimetype": "text/x-python",
   "name": "python",
   "nbconvert_exporter": "python",
   "pygments_lexer": "ipython3",
   "version": "3.7.9"
  }
 },
 "nbformat": 4,
 "nbformat_minor": 4
}
