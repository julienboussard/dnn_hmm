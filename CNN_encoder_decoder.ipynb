{
 "cells": [
  {
   "cell_type": "code",
   "execution_count": 1,
   "metadata": {},
   "outputs": [],
   "source": [
    "%matplotlib inline\n",
    "\n",
    "import h5py\n",
    "import numpy as np\n",
    "import matplotlib.pyplot as plt\n",
    "from matplotlib import cm\n",
    "import matplotlib.gridspec as gridspec\n",
    "import scipy.io as sio\n"
   ]
  },
  {
   "cell_type": "code",
   "execution_count": 452,
   "metadata": {},
   "outputs": [],
   "source": [
    "data = np.load(\"data_img.npy\")\n",
    "labels = np.load(\"labels_img.npy\")"
   ]
  },
  {
   "cell_type": "code",
   "execution_count": 454,
   "metadata": {},
   "outputs": [
    {
     "data": {
      "text/plain": [
       "(549,)"
      ]
     },
     "execution_count": 454,
     "metadata": {},
     "output_type": "execute_result"
    }
   ],
   "source": [
    "labels.shape"
   ]
  },
  {
   "cell_type": "markdown",
   "metadata": {},
   "source": [
    "# Build decoder"
   ]
  },
  {
   "cell_type": "code",
   "execution_count": 9,
   "metadata": {},
   "outputs": [],
   "source": [
    "%matplotlib inline\n",
    "import os\n",
    "import yaml\n",
    "import matplotlib.gridspec as gridspec\n",
    "import math\n",
    "import matplotlib.pyplot as plt\n",
    "import numpy as np\n",
    "# import seaborn as sns\n",
    "import torch\n",
    "import torch.nn as nn\n",
    "import torch.nn.functional as F\n",
    "import torch.optim as optim\n"
   ]
  },
  {
   "cell_type": "code",
   "execution_count": 7,
   "metadata": {},
   "outputs": [],
   "source": [
    "# from tensorboardX import SummaryWriter\n",
    "# from torchvision import datasets, transforms\n",
    "# from torchvision.utils import make_grid\n",
    "from tqdm import tqdm, trange\n",
    "\n",
    "# writer = SummaryWriter()\n",
    "# sns.set()\n",
    "# sns.set_style(\"dark\")\n",
    "# sns.set_palette(\"muted\")\n",
    "# sns.set_color_codes(\"muted\")"
   ]
  },
  {
   "cell_type": "code",
   "execution_count": 10,
   "metadata": {},
   "outputs": [
    {
     "name": "stdout",
     "output_type": "stream",
     "text": [
      "True\n"
     ]
    }
   ],
   "source": [
    "DEVICE = torch.device(\"cuda\" if torch.cuda.is_available() else \"cpu\")\n",
    "LOADER_KWARGS = {'num_workers': 1, 'pin_memory': True} if torch.cuda.is_available() else {}\n",
    "print(torch.cuda.is_available())"
   ]
  },
  {
   "cell_type": "code",
   "execution_count": 275,
   "metadata": {},
   "outputs": [],
   "source": [
    "BATCH_SIZE = 32\n",
    "\n",
    "CLASSES = 2\n",
    "TRAIN_EPOCHS = 100\n",
    "\n"
   ]
  },
  {
   "cell_type": "code",
   "execution_count": 276,
   "metadata": {},
   "outputs": [],
   "source": [
    "decision_data = data[~np.isnan(labels)]\n",
    "decision_labels = labels[~np.isnan(labels)]"
   ]
  },
  {
   "cell_type": "code",
   "execution_count": 277,
   "metadata": {},
   "outputs": [],
   "source": [
    "decision_data = decision_data.reshape((decision_data.shape[0], 1, decision_data.shape[1], decision_data.shape[2]))"
   ]
  },
  {
   "cell_type": "code",
   "execution_count": 279,
   "metadata": {},
   "outputs": [],
   "source": [
    "decision_labels = decision_labels - 1"
   ]
  },
  {
   "cell_type": "code",
   "execution_count": 281,
   "metadata": {},
   "outputs": [],
   "source": [
    "idx = np.random.choice(decision_labels.shape[0], decision_labels.shape[0], replace = False)\n",
    "decision_labels = decision_labels[idx]\n",
    "decision_data = decision_data[idx]"
   ]
  },
  {
   "cell_type": "code",
   "execution_count": 293,
   "metadata": {},
   "outputs": [],
   "source": [
    "training_samples = 500"
   ]
  },
  {
   "cell_type": "code",
   "execution_count": 295,
   "metadata": {},
   "outputs": [],
   "source": [
    "train_data = torch.tensor(decision_data[:training_samples])\n",
    "tensor_train_labels = torch.tensor(decision_labels[:training_samples])\n",
    "test_data = torch.tensor(decision_data[training_samples:])\n",
    "tensor_test_labels = torch.tensor(decision_labels[training_samples:])"
   ]
  },
  {
   "cell_type": "code",
   "execution_count": 296,
   "metadata": {},
   "outputs": [],
   "source": [
    "torch_train_dataset = torch.utils.data.TensorDataset(train_data, tensor_train_labels)\n",
    "train_loader = torch.utils.data.DataLoader(torch_train_dataset, batch_size=BATCH_SIZE)\n",
    "torch_test_dataset = torch.utils.data.TensorDataset(test_data, tensor_test_labels)\n",
    "test_loader = torch.utils.data.DataLoader(torch_test_dataset, batch_size=BATCH_SIZE)"
   ]
  },
  {
   "cell_type": "code",
   "execution_count": 297,
   "metadata": {},
   "outputs": [],
   "source": [
    "TRAIN_SIZE = len(train_loader.dataset)\n",
    "NUM_BATCHES = len(train_loader)"
   ]
  },
  {
   "cell_type": "code",
   "execution_count": 298,
   "metadata": {},
   "outputs": [
    {
     "data": {
      "text/plain": [
       "16"
      ]
     },
     "execution_count": 298,
     "metadata": {},
     "output_type": "execute_result"
    }
   ],
   "source": [
    "NUM_BATCHES"
   ]
  },
  {
   "cell_type": "code",
   "execution_count": 391,
   "metadata": {},
   "outputs": [],
   "source": [
    "class Net(nn.Module):   \n",
    "    def __init__(self, ):\n",
    "        super(Net, self).__init__()\n",
    "        self.cnn_layers = nn.Sequential(\n",
    "            # Defining a 2D convolution layer\n",
    "            nn.Conv2d(1, 3, kernel_size=(7, 3), stride=(3, 1), padding=3),\n",
    "            nn.BatchNorm2d(3),\n",
    "            nn.Tanh(),\n",
    "            nn.MaxPool2d(kernel_size=2, stride=2),\n",
    "            # Defining another 2D convolution layer\n",
    "#             nn.Conv2d(3, 3, kernel_size=3, stride=1, padding=1),\n",
    "#             nn.BatchNorm2d(3),\n",
    "#             nn.Tanh(),\n",
    "#             nn.MaxPool2d(kernel_size=2, stride=2),\n",
    "#             nn.Conv2d(3, 3, kernel_size=3, stride=1, padding=1),\n",
    "#             nn.BatchNorm2d(3),\n",
    "#             nn.Tanh(),\n",
    "#             nn.MaxPool2d(kernel_size=2, stride=2),\n",
    "            nn.Conv2d(3, 1, kernel_size=3, stride=1, padding=1),\n",
    "            nn.BatchNorm2d(1),\n",
    "            nn.Tanh(),\n",
    "            nn.MaxPool2d(kernel_size=2, stride=2)\n",
    "        )\n",
    "\n",
    "        self.linear_layers = nn.Sequential(\n",
    "            nn.Linear(975, 64), \n",
    "#             nn.BatchNorm1d(64),\n",
    "            nn.Tanh(),\n",
    "#             nn.Linear(128, 64), \n",
    "#             nn.Tanh(),\n",
    "            nn.Linear(64, 16), \n",
    "            nn.Tanh(),\n",
    "            nn.Linear(16, 64), \n",
    "            nn.Tanh(),\n",
    "            nn.Linear(64, 32), \n",
    "            nn.Tanh(),\n",
    "            nn.Linear(32, 2), \n",
    "            # Dimension?\n",
    "            nn.Softmax(dim = 1)\n",
    "        )\n",
    "\n",
    "    # Defining the forward pass    \n",
    "    def forward(self, x):\n",
    "#         print(self.cnn_layers[0](x).shape)\n",
    "        x = self.cnn_layers(x)\n",
    "        x = x.view(x.size(0), -1)\n",
    "        x = self.linear_layers(x)\n",
    "        return x"
   ]
  },
  {
   "cell_type": "code",
   "execution_count": 440,
   "metadata": {},
   "outputs": [],
   "source": [
    "def train(model, optimizer, epoch, l2_regularization = True):\n",
    "    model.train()\n",
    "\n",
    "    #     if epoch == 0: # write initial distributions\n",
    "    #         write_weight_histograms(epoch)\n",
    "    for batch_idx, (data, target) in enumerate((train_loader)):\n",
    "    #         data = data.reshape((data.shape[0], 1, data.shape[1])).float()\n",
    "    #         target = target.reshape(target.shape[0])\n",
    "    #         data, target = data.cuda(), target.cuda()\n",
    "        target = target.long()\n",
    "        optimizer.zero_grad()\n",
    "        output_val = model(data)\n",
    "        loss = criterion(output_val, target)\n",
    "        if l2_regularization:\n",
    "            l2_reg = torch.tensor(0.)\n",
    "            for param in model.parameters():\n",
    "                l2_reg += 0.01*torch.norm(param)\n",
    "        loss += l2_reg\n",
    "        loss.backward()\n",
    "        optimizer.step()\n",
    "    return loss\n",
    "\n"
   ]
  },
  {
   "cell_type": "code",
   "execution_count": 441,
   "metadata": {},
   "outputs": [
    {
     "name": "stdout",
     "output_type": "stream",
     "text": [
      "Net(\n",
      "  (cnn_layers): Sequential(\n",
      "    (0): Conv2d(1, 3, kernel_size=(7, 3), stride=(3, 1), padding=(3, 3))\n",
      "    (1): BatchNorm2d(3, eps=1e-05, momentum=0.1, affine=True, track_running_stats=True)\n",
      "    (2): Tanh()\n",
      "    (3): MaxPool2d(kernel_size=2, stride=2, padding=0, dilation=1, ceil_mode=False)\n",
      "    (4): Conv2d(3, 1, kernel_size=(3, 3), stride=(1, 1), padding=(1, 1))\n",
      "    (5): BatchNorm2d(1, eps=1e-05, momentum=0.1, affine=True, track_running_stats=True)\n",
      "    (6): Tanh()\n",
      "    (7): MaxPool2d(kernel_size=2, stride=2, padding=0, dilation=1, ceil_mode=False)\n",
      "  )\n",
      "  (linear_layers): Sequential(\n",
      "    (0): Linear(in_features=975, out_features=64, bias=True)\n",
      "    (1): Tanh()\n",
      "    (2): Linear(in_features=64, out_features=16, bias=True)\n",
      "    (3): Tanh()\n",
      "    (4): Linear(in_features=16, out_features=64, bias=True)\n",
      "    (5): Tanh()\n",
      "    (6): Linear(in_features=64, out_features=32, bias=True)\n",
      "    (7): Tanh()\n",
      "    (8): Linear(in_features=32, out_features=2, bias=True)\n",
      "    (9): Softmax(dim=1)\n",
      "  )\n",
      ")\n"
     ]
    }
   ],
   "source": [
    "# defining the model\n",
    "model = Net()\n",
    "# defining the optimizer\n",
    "optimizer = optim.Adam(model.parameters(), lr=0.0005)\n",
    "# defining the loss function\n",
    "criterion = nn.CrossEntropyLoss()\n",
    "# checking if GPU is available\n",
    "# if torch.cuda.is_available():\n",
    "#     model = model.cuda()\n",
    "#     criterion = criterion.cuda()\n",
    "print(model)"
   ]
  },
  {
   "cell_type": "code",
   "execution_count": 442,
   "metadata": {},
   "outputs": [
    {
     "name": "stderr",
     "output_type": "stream",
     "text": [
      " 10%|█         | 10/100 [00:07<01:08,  1.31it/s]"
     ]
    },
    {
     "name": "stdout",
     "output_type": "stream",
     "text": [
      "0.00025\n"
     ]
    },
    {
     "name": "stderr",
     "output_type": "stream",
     "text": [
      " 20%|██        | 20/100 [00:15<01:01,  1.31it/s]"
     ]
    },
    {
     "name": "stdout",
     "output_type": "stream",
     "text": [
      "0.000125\n"
     ]
    },
    {
     "name": "stderr",
     "output_type": "stream",
     "text": [
      " 30%|███       | 30/100 [00:23<00:53,  1.32it/s]"
     ]
    },
    {
     "name": "stdout",
     "output_type": "stream",
     "text": [
      "6.25e-05\n"
     ]
    },
    {
     "name": "stderr",
     "output_type": "stream",
     "text": [
      " 40%|████      | 40/100 [00:31<00:45,  1.31it/s]"
     ]
    },
    {
     "name": "stdout",
     "output_type": "stream",
     "text": [
      "3.125e-05\n"
     ]
    },
    {
     "name": "stderr",
     "output_type": "stream",
     "text": [
      " 50%|█████     | 50/100 [00:39<00:38,  1.31it/s]"
     ]
    },
    {
     "name": "stdout",
     "output_type": "stream",
     "text": [
      "1.5625e-05\n"
     ]
    },
    {
     "name": "stderr",
     "output_type": "stream",
     "text": [
      " 60%|██████    | 60/100 [00:47<00:30,  1.31it/s]"
     ]
    },
    {
     "name": "stdout",
     "output_type": "stream",
     "text": [
      "7.8125e-06\n"
     ]
    },
    {
     "name": "stderr",
     "output_type": "stream",
     "text": [
      " 70%|███████   | 70/100 [00:54<00:20,  1.46it/s]"
     ]
    },
    {
     "name": "stdout",
     "output_type": "stream",
     "text": [
      "3.90625e-06\n"
     ]
    },
    {
     "name": "stderr",
     "output_type": "stream",
     "text": [
      " 80%|████████  | 80/100 [01:01<00:15,  1.33it/s]"
     ]
    },
    {
     "name": "stdout",
     "output_type": "stream",
     "text": [
      "1.953125e-06\n"
     ]
    },
    {
     "name": "stderr",
     "output_type": "stream",
     "text": [
      " 90%|█████████ | 90/100 [01:09<00:07,  1.31it/s]"
     ]
    },
    {
     "name": "stdout",
     "output_type": "stream",
     "text": [
      "9.765625e-07\n"
     ]
    },
    {
     "name": "stderr",
     "output_type": "stream",
     "text": [
      "100%|██████████| 100/100 [01:17<00:00,  1.29it/s]"
     ]
    },
    {
     "name": "stdout",
     "output_type": "stream",
     "text": [
      "4.8828125e-07\n"
     ]
    },
    {
     "name": "stderr",
     "output_type": "stream",
     "text": [
      "\n"
     ]
    }
   ],
   "source": [
    "TRAIN_EPOCHS = 100\n",
    "loss_overtime = []\n",
    "scheduler = optim.lr_scheduler.ExponentialLR(optimizer, gamma = 0.5)\n",
    "for epoch in tqdm(range(TRAIN_EPOCHS)):\n",
    "    loss  = train(model, optimizer, epoch)\n",
    "    loss_overtime.append(loss.detach().numpy())\n",
    "    if epoch % 5 == 0:\n",
    "        plt.figure(figsize = (10, 10))\n",
    "        plt.plot(loss_overtime)\n",
    "        plt.grid()\n",
    "        plt.savefig(\"loss_overtime.png\")\n",
    "        plt.close()\n",
    "    if (epoch+1) % 10 == 0:\n",
    "        scheduler.step()\n",
    "#         for param_group in optimizer.param_groups:\n",
    "#             print(param_group['lr'])"
   ]
  },
  {
   "cell_type": "code",
   "execution_count": 447,
   "metadata": {},
   "outputs": [
    {
     "data": {
      "image/png": "[encoded data removed]",
      "text/plain": [
       "<Figure size 432x288 with 1 Axes>"
      ]
     },
     "metadata": {
      "needs_background": "light"
     },
     "output_type": "display_data"
    }
   ],
   "source": [
    "plt.plot(loss_overtime)\n",
    "plt.grid()"
   ]
  },
  {
   "cell_type": "code",
   "execution_count": 448,
   "metadata": {},
   "outputs": [
    {
     "name": "stdout",
     "output_type": "stream",
     "text": [
      "0.004\n"
     ]
    }
   ],
   "source": [
    "####### evaluate on train \n",
    "\n",
    "model.eval()\n",
    "train_loss = 0\n",
    "for batch_idx, (data, target) in enumerate((train_loader)):\n",
    "    output_val = model(data)\n",
    "#     print(\"difference\")\n",
    "#     print((output_val.detach().numpy().argmax(1) - target.detach().numpy()))\n",
    "#     print(\"train loss\")\n",
    "#     print(((output_val.detach().numpy().argmax(1) - target.detach().numpy())**2).mean())\n",
    "    train_loss += ((output_val.detach().numpy().argmax(1) - target.detach().numpy())**2).mean()*data.shape[0]\n",
    "train_loss = train_loss/TRAIN_SIZE\n",
    "print(train_loss)"
   ]
  },
  {
   "cell_type": "code",
   "execution_count": null,
   "metadata": {},
   "outputs": [],
   "source": []
  },
  {
   "cell_type": "code",
   "execution_count": 449,
   "metadata": {},
   "outputs": [
    {
     "name": "stdout",
     "output_type": "stream",
     "text": [
      "difference\n",
      "[0. 0. 0. 1. 0. 0. 0. 0. 0. 0. 0. 0. 0. 0. 0. 0. 0. 0. 0. 0. 0. 0. 0. 0.\n",
      " 0. 0. 1. 0. 0. 0. 0. 1.]\n",
      "test loss\n",
      "0.09375\n",
      "difference\n",
      "[ 0.  1.  0. -1.  0.  0.  0.  0.  0.  0.  0.  0.  0.  0.  0.  1.]\n",
      "test loss\n",
      "0.1875\n"
     ]
    }
   ],
   "source": [
    "model.eval()\n",
    "test_loss = 0\n",
    "for batch_idx, (data, target) in enumerate((test_loader)):\n",
    "    output_val = model(data)\n",
    "    print(\"difference\")\n",
    "    print((output_val.detach().numpy().argmax(1) - target.detach().numpy()))\n",
    "    print(\"test loss\")\n",
    "    print(((output_val.detach().numpy().argmax(1) - target.detach().numpy())**2).mean())\n",
    "    test_loss += ((output_val.detach().numpy().argmax(1) - target.detach().numpy())**2).mean()*data.shape[0]\n",
    "test_loss = test_loss/48"
   ]
  },
  {
   "cell_type": "code",
   "execution_count": 450,
   "metadata": {},
   "outputs": [
    {
     "data": {
      "text/plain": [
       "0.125"
      ]
     },
     "execution_count": 450,
     "metadata": {},
     "output_type": "execute_result"
    }
   ],
   "source": [
    "test_loss"
   ]
  },
  {
   "cell_type": "code",
   "execution_count": null,
   "metadata": {},
   "outputs": [],
   "source": []
  },
  {
   "cell_type": "code",
   "execution_count": null,
   "metadata": {},
   "outputs": [],
   "source": []
  },
  {
   "cell_type": "code",
   "execution_count": null,
   "metadata": {},
   "outputs": [],
   "source": []
  }
 ],
 "metadata": {
  "kernelspec": {
   "display_name": "Python 3",
   "language": "python",
   "name": "python3"
  },
  "language_info": {
   "codemirror_mode": {
    "name": "ipython",
    "version": 3
   },
   "file_extension": ".py",
   "mimetype": "text/x-python",
   "name": "python",
   "nbconvert_exporter": "python",
   "pygments_lexer": "ipython3",
   "version": "3.7.9"
  }
 },
 "nbformat": 4,
 "nbformat_minor": 4
}
