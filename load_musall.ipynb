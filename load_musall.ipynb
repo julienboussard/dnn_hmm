{
 "cells": [
  {
   "cell_type": "code",
   "execution_count": 17,
   "metadata": {},
   "outputs": [],
   "source": [
    "import h5py\n",
    "import numpy as np"
   ]
  },
  {
   "cell_type": "code",
   "execution_count": 18,
   "metadata": {},
   "outputs": [],
   "source": [
    "# load data\n",
    "# filepath to data.hdf5\n",
    "filepath = '/Users/ksaniee/behave/behavenet/data/musall/vistrained/mSM36/05-Dec-2017/data.hdf5'"
   ]
  },
  {
   "cell_type": "code",
   "execution_count": 19,
   "metadata": {},
   "outputs": [],
   "source": [
    "f = h5py.File(filepath,'r')"
   ]
  },
  {
   "cell_type": "code",
   "execution_count": 20,
   "metadata": {},
   "outputs": [
    {
     "data": {
      "text/plain": [
       "<KeysViewHDF5 ['bin_times', 'images', 'neural', 'regions']>"
      ]
     },
     "execution_count": 20,
     "metadata": {},
     "output_type": "execute_result"
    }
   ],
   "source": [
    "f.keys()"
   ]
  },
  {
   "cell_type": "code",
   "execution_count": 21,
   "metadata": {},
   "outputs": [
    {
     "data": {
      "text/plain": [
       "<HDF5 group \"/neural\" (549 members)>"
      ]
     },
     "execution_count": 21,
     "metadata": {},
     "output_type": "execute_result"
    }
   ],
   "source": [
    "# 549 trials\n",
    "f[\"neural\"]"
   ]
  },
  {
   "cell_type": "code",
   "execution_count": 22,
   "metadata": {},
   "outputs": [
    {
     "name": "stderr",
     "output_type": "stream",
     "text": [
      "<ipython-input-22-0af527f696fa>:2: H5pyDeprecationWarning: dataset.value has been deprecated. Use dataset[()] instead.\n",
      "  f[\"neural\"]['trial_0001'].value\n"
     ]
    },
    {
     "data": {
      "text/plain": [
       "array([[ 1.3370792e-02, -1.0914367e-02,  9.4556832e-04, ...,\n",
       "        -5.5515193e-03,  3.1571817e-03,  9.7376462e-03],\n",
       "       [ 1.9240052e-02, -1.2089023e-02,  1.5077912e-03, ...,\n",
       "        -9.0349745e-04,  3.8396392e-03,  1.0436553e-02],\n",
       "       [ 1.2572746e-02, -7.2555840e-03,  7.2542601e-04, ...,\n",
       "        -2.3740341e-03,  1.8776620e-03,  9.2322761e-03],\n",
       "       ...,\n",
       "       [-1.9203806e-02,  1.0467880e-02, -4.9545565e-03, ...,\n",
       "         6.8456393e-05,  9.0601941e-04, -2.5707184e-04],\n",
       "       [-2.1751428e-02, -8.5896795e-04,  3.1285675e-03, ...,\n",
       "         8.2155187e-03,  1.1662587e-03,  1.6167935e-03],\n",
       "       [-1.1672830e-02,  1.4139949e-02, -3.1983778e-03, ...,\n",
       "         2.3608729e-03, -4.1563162e-03,  5.8648963e-03]], dtype=float32)"
      ]
     },
     "execution_count": 22,
     "metadata": {},
     "output_type": "execute_result"
    }
   ],
   "source": [
    "# each trial has 189 rows (corresponding to frames) and 258 columns (NMF components) \n",
    "f[\"neural\"]['trial_0001'].value"
   ]
  },
  {
   "cell_type": "code",
   "execution_count": 23,
   "metadata": {},
   "outputs": [
    {
     "name": "stderr",
     "output_type": "stream",
     "text": [
      "<ipython-input-23-d88b57b5c80b>:2: H5pyDeprecationWarning: dataset.value has been deprecated. Use dataset[()] instead.\n",
      "  data = np.vstack([f[\"neural\"]['trial_'+str(i).zfill(4)].value\n"
     ]
    },
    {
     "data": {
      "text/plain": [
       "(103761, 258)"
      ]
     },
     "execution_count": 23,
     "metadata": {},
     "output_type": "execute_result"
    }
   ],
   "source": [
    "# stack everything\n",
    "data = np.vstack([f[\"neural\"]['trial_'+str(i).zfill(4)].value \n",
    "           for i in range(549)])\n",
    "\n",
    "data.shape"
   ]
  },
  {
   "cell_type": "code",
   "execution_count": 24,
   "metadata": {},
   "outputs": [
    {
     "data": {
      "text/plain": [
       "549.0"
      ]
     },
     "execution_count": 24,
     "metadata": {},
     "output_type": "execute_result"
    }
   ],
   "source": [
    "# check\n",
    "103761/189"
   ]
  },
  {
   "cell_type": "code",
   "execution_count": null,
   "metadata": {},
   "outputs": [],
   "source": []
  }
 ],
 "metadata": {
  "kernelspec": {
   "display_name": "Python 3",
   "language": "python",
   "name": "python3"
  },
  "language_info": {
   "codemirror_mode": {
    "name": "ipython",
    "version": 3
   },
   "file_extension": ".py",
   "mimetype": "text/x-python",
   "name": "python",
   "nbconvert_exporter": "python",
   "pygments_lexer": "ipython3",
   "version": "3.8.3"
  }
 },
 "nbformat": 4,
 "nbformat_minor": 4
}
